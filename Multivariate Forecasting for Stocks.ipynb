{
 "cells": [
  {
   "cell_type": "markdown",
   "metadata": {},
   "source": [
    "# Imports"
   ]
  },
  {
   "cell_type": "code",
   "execution_count": null,
   "metadata": {},
   "outputs": [],
   "source": [
    "import numpy as np\n",
    "import pandas as pd\n",
    "import yfinance as yf\n",
    "from datetime import datetime, timedelta\n",
    "import matplotlib.pylab as plt\n",
    "from pandas.plotting import register_matplotlib_converters\n",
    "%matplotlib inline\n",
    "import re\n",
    "from nltk.sentiment.vader import SentimentIntensityAnalyzer\n",
    "import seaborn as sns\n",
    "import snscrape.modules.twitter as sntwitter\n",
    "import pandas\n",
    "from statsmodels.tsa.seasonal import seasonal_decompose\n",
    "from arch.unitroot import *\n",
    "import tensorflow as tf\n",
    "from tensorflow.keras.models import Sequential\n",
    "from tensorflow.keras.layers import Dense, Dropout, LSTM"
   ]
  },
  {
   "cell_type": "markdown",
   "metadata": {},
   "source": [
    "# Load Stock Data"
   ]
  },
  {
   "cell_type": "code",
   "execution_count": null,
   "metadata": {},
   "outputs": [],
   "source": [
    "pd.options.mode.chained_assignment = None\n",
    "\n",
    "end = datetime.now()\n",
    "start = datetime(end.year-4, end.month, end.day)\n",
    "yf.pdr_override()\n",
    "df = yf.download(\"AAPL\", start=start, end=end, interval = \"1d\")\n",
    "df.reset_index()\n",
    "df = df[['Close']].fillna(method='ffill')\n",
    "df = df.set_index(df.index).resample('D').ffill()\n",
    "df.index = df.index.to_period(freq='D')\n",
    "df"
   ]
  },
  {
   "cell_type": "code",
   "execution_count": null,
   "metadata": {},
   "outputs": [],
   "source": [
    "temp = pd.read_csv(\"SP500 (2).csv\")\n",
    "temp.index = pd.to_datetime(temp.iloc[:,0], format='%Y-%m-%d').dt.date\n",
    "\n",
    "temp.index = pd.DatetimeIndex(temp.index).to_period('D')\n",
    "temp = temp.drop(temp.columns[0], axis = \"columns\")\n",
    "temp = temp.set_index(temp.index).resample('D').ffill()\n",
    "\n",
    "sample = temp.index[0]\n",
    "while sample < df.index[0]\n",
    "startingPoint = 0\n",
    "for i in range(len(temp)):\n",
    "    if (temp.index[i] == df.index[0]):\n",
    "        startingPoint = i\n",
    "        break\n",
    "for i in range(len(temp)):\n",
    "    if temp.iloc[i].values == \".\":\n",
    "        temp.iloc[i] = np.NaN\n",
    "temp = temp.fillna(method = \"ffill\")\n",
    "\n",
    "df[\"SP500\"] = temp[i:].astype(float)\n",
    "\n",
    "temp"
   ]
  },
  {
   "cell_type": "markdown",
   "metadata": {},
   "source": [
    "# Gathering Sentiment Data from Twitter "
   ]
  },
  {
   "cell_type": "code",
   "execution_count": null,
   "metadata": {},
   "outputs": [],
   "source": [
    "sources = [\"ETTelecom\", \"CNBCnow\", \"business\", \"GoldmanSachs\", \"pkedrosky\", \"ritholz\", \"DavidSchawel\", \"wallstreetmojo\", \"howardlindzon\", \"conorsen\", \"ReformedBroker\", \"mark_dow\"]\n",
    "topics = [\"market\", \"stocks\", \"prices\", \"employment\"]\n",
    "numTweets = 500\n",
    "tweets_list = []\n",
    "\n",
    "end = datetime.now()\n",
    "start = datetime(end.year-6, end.month, end.day)\n",
    "formattedEnd = end.strftime(\"%Y-%m-%d\")\n",
    "formattedStart = start.strftime(\"%Y-%m-%d\")\n",
    "\n",
    "\n",
    "for source in sources:\n",
    "    for topic in topics:\n",
    "        for i,tweet in enumerate(sntwitter.TwitterSearchScraper(f'{topic} since:{formattedStart} until:{formattedEnd} from:{source}').get_items()):\n",
    "            if i>numTweets:\n",
    "                break\n",
    "            tweets_list.append([tweet.date, tweet.id, tweet.content, tweet.user.username])\n",
    "\n",
    "def cleanTxt(text):\n",
    "    text = re.sub('@[A-Za-z0–9]+', '', text) #Removing @mentions\n",
    "    text = re.sub('#', '', text) # Removing '#' hash tag\n",
    "    text = re.sub('RT[\\s]+', '', text) # Removing RT\n",
    "    text = re.sub('https?:\\/\\/\\S+', '', text) # Removing hyperlink\n",
    "    emoj = re.compile(\"[\"\n",
    "        u\"\\U0001F600-\\U0001F64F\" \n",
    "        u\"\\U0001F300-\\U0001F5FF\"  \n",
    "        u\"\\U0001F680-\\U0001F6FF\"  \n",
    "        u\"\\U0001F1E0-\\U0001F1FF\"  \n",
    "        u\"\\U00002500-\\U00002BEF\"  \n",
    "        u\"\\U00002702-\\U000027B0\"\n",
    "        u\"\\U00002702-\\U000027B0\"\n",
    "        u\"\\U000024C2-\\U0001F251\"\n",
    "        u\"\\U0001f926-\\U0001f937\"\n",
    "        u\"\\U00010000-\\U0010ffff\"\n",
    "        u\"\\u2640-\\u2642\" \n",
    "        u\"\\u2600-\\u2B55\"\n",
    "        u\"\\u200d\"\n",
    "        u\"\\u23cf\"\n",
    "        u\"\\u23e9\"\n",
    "        u\"\\u231a\"\n",
    "        u\"\\ufe0f\" \n",
    "        u\"\\u3030\" \n",
    "        \"]+\", re.UNICODE)\n",
    "    text = re.sub(emoj, '', text)\n",
    "    return text\n",
    "\n",
    "tweets_df = pd.DataFrame(tweets_list, columns=['Datetime', 'Tweet Id', 'Text', \"user\"])\n",
    "tweets_df[\"Text\"] = tweets_df[\"Text\"].apply(cleanTxt)\n",
    "tweets_df\n",
    "tweets_df.to_csv(\"tweets.csv\")"
   ]
  },
  {
   "cell_type": "code",
   "execution_count": null,
   "metadata": {},
   "outputs": [],
   "source": [
    "tweets = pd.read_csv(\"tweets.csv\")\n",
    "tweets = tweets.drop([\"Tweet Id\", \"user\", \"Unnamed: 0\"], axis = 1)\n",
    "\n",
    "sia = SentimentIntensityAnalyzer()\n",
    "polarity = []\n",
    "for i in tweets[\"Text\"]:\n",
    "    polarity.append(sia.polarity_scores(i)[\"compound\"])\n",
    "tweets[\"Polarity\"] = polarity\n",
    "\n",
    "tweets.index = pd.to_datetime(tweets[\"Datetime\"]).dt.date\n",
    "tweets.index = pd.DatetimeIndex(tweets.index).to_period('D')\n",
    "tweets = tweets.drop([\"Datetime\", \"Text\"], axis = 1)\n",
    "tweets = tweets.sort_index()\n",
    "tweets"
   ]
  },
  {
   "cell_type": "code",
   "execution_count": null,
   "metadata": {},
   "outputs": [],
   "source": [
    "pointer = 0\n",
    "compiledTweets = pd.DataFrame(columns = [\"Polarity\", \"Date\"])\n",
    "while pointer+1 < len(tweets):\n",
    "    tempAggregate = []\n",
    "    while tweets.index[pointer] == tweets.index[pointer+1]:\n",
    "        tempAggregate.append(tweets[\"Polarity\"][pointer])\n",
    "        pointer+=1\n",
    "        if pointer+1 == len(tweets)-1:\n",
    "            tempAggregate.append(tweets[\"Polarity\"][pointer+1])\n",
    "            break\n",
    "    if len(tempAggregate) != 0:\n",
    "        avgPolarity = sum(tempAggregate)/len(tempAggregate)\n",
    "    else:\n",
    "        avgPolarity = tweets[\"Polarity\"][pointer]\n",
    "    row = [avgPolarity, tweets.index[pointer]]\n",
    "    compiledTweets.loc[len(compiledTweets)] = row\n",
    "    pointer += 1\n",
    "compiledTweets"
   ]
  },
  {
   "cell_type": "code",
   "execution_count": null,
   "metadata": {},
   "outputs": [],
   "source": [
    "pointer = 0\n",
    "df[\"Polarity\"] = np.nan\n",
    "while compiledTweets[\"Date\"][pointer] < df.index[0]:\n",
    "    pointer += 1\n",
    "print(compiledTweets[\"Date\"][pointer], df.index[0])\n",
    "for date in df.index:\n",
    "    if compiledTweets[\"Date\"][pointer] == date:\n",
    "        df.loc[date][\"Polarity\"] = compiledTweets[\"Polarity\"][pointer]\n",
    "        pointer+=1\n",
    "    if pointer == len(compiledTweets):\n",
    "        break\n",
    "print(df[\"Polarity\"].isna().sum()/len(df))\n",
    "df[\"Polarity\"] = df[\"Polarity\"].bfill()"
   ]
  },
  {
   "cell_type": "code",
   "execution_count": null,
   "metadata": {},
   "outputs": [],
   "source": [
    "df.index = df.index.to_timestamp()"
   ]
  },
  {
   "cell_type": "markdown",
   "metadata": {},
   "source": [
    "# Analysis and Transformations"
   ]
  },
  {
   "cell_type": "code",
   "execution_count": null,
   "metadata": {},
   "outputs": [],
   "source": [
    "adf_ct = ADF(df[\"Close\"])\n",
    "adf_ct.summary()"
   ]
  },
  {
   "cell_type": "code",
   "execution_count": null,
   "metadata": {},
   "outputs": [],
   "source": [
    "plt.plot(df[\"Close\"])"
   ]
  },
  {
   "cell_type": "code",
   "execution_count": null,
   "metadata": {},
   "outputs": [],
   "source": [
    "result = seasonal_decompose(df[\"Close\"], model='multiplicative')\n",
    "fig = plt.figure()  \n",
    "fig = result.plot()  \n",
    "fig.set_size_inches(16, 9)"
   ]
  },
  {
   "cell_type": "code",
   "execution_count": null,
   "metadata": {},
   "outputs": [],
   "source": [
    "df_transform = df[\"Close\"].apply(np.log)\n",
    "df_transform = df_transform.apply(np.sqrt)\n",
    "plt.figure(figsize = (10,6))\n",
    "plt.plot(df_transform)\n",
    "df_shift = df_transform - df_transform.shift()\n",
    "df_shift.dropna(inplace=True)"
   ]
  },
  {
   "cell_type": "code",
   "execution_count": null,
   "metadata": {},
   "outputs": [],
   "source": [
    "adf_ct = ADF(df_shift)\n",
    "adf_ct.summary()"
   ]
  },
  {
   "cell_type": "markdown",
   "metadata": {},
   "source": [
    "# Building the Model"
   ]
  },
  {
   "cell_type": "code",
   "execution_count": null,
   "metadata": {},
   "outputs": [],
   "source": [
    "def preprocess_multistep_lstm(sequence, n_steps_in, n_steps_out, features):\n",
    "    X, y = list(), list()\n",
    "    for i in range(len(sequence)):\n",
    "        # find the end of this pattern\n",
    "        end_ix = i + n_steps_in\n",
    "        out_end_ix = end_ix + n_steps_out\n",
    "        # check if we are beyond the sequence\n",
    "        if out_end_ix > len(sequence):\n",
    "            break\n",
    "        # gather input and output parts of the pattern\n",
    "        seq_x, seq_y = sequence[i:end_ix], sequence[end_ix:out_end_ix]\n",
    "        X.append(seq_x)\n",
    "        y.append(seq_y)\n",
    "\n",
    "    X = np.array(X)\n",
    "    y = np.array(y)\n",
    "\n",
    "    X = X.reshape((X.shape[0], X.shape[1], n_features))\n",
    "    \n",
    "    return X, y\n",
    "\n",
    "#days into future\n",
    "n_steps_out = 10\n",
    "\n",
    "#days to base predictions\n",
    "nb_days = 60\n",
    "\n",
    "n_features = 1\n",
    "\n",
    "X, y = preprocess_multistep_lstm(df_shift.to_numpy(), nb_days, n_steps_out, n_features)"
   ]
  },
  {
   "cell_type": "code",
   "execution_count": null,
   "metadata": {},
   "outputs": [],
   "source": [
    "test_days = 150 \n",
    "\n",
    "X_train, y_train = X[:-test_days], y[:-test_days]\n",
    "X_test, y_test = X[-test_days:], y[-test_days:]\n",
    "\n",
    "train_original = df[\"Close\"].iloc[:-test_days]\n",
    "test_original = df[\"Close\"].iloc[-test_days:]\n",
    "\n",
    "plt.figure(figsize=(10,6))\n",
    "plt.grid(True)\n",
    "plt.xlabel('Dates')\n",
    "plt.ylabel('Closing Prices')\n",
    "plt.plot(train_original, 'b', label='Train data')\n",
    "plt.plot(test_original, 'g', label='Test data')\n",
    "plt.legend()\n"
   ]
  },
  {
   "cell_type": "code",
   "execution_count": null,
   "metadata": {},
   "outputs": [],
   "source": [
    "def vanilla_multistep_LSTM():\n",
    "    model = Sequential()    \n",
    "    model.add(LSTM(units=50, input_shape=(nb_days, n_features)))\n",
    "    model.add(Dense(n_steps_out))\n",
    "    return model"
   ]
  },
  {
   "cell_type": "code",
   "execution_count": null,
   "metadata": {},
   "outputs": [],
   "source": [
    "model = vanilla_multistep_LSTM()\n",
    "model.summary()\n",
    "model.compile(optimizer='adam', \n",
    "              loss='mean_squared_error',\n",
    "              metrics=[tf.keras.metrics.MeanAbsoluteError()])"
   ]
  },
  {
   "cell_type": "code",
   "execution_count": null,
   "metadata": {},
   "outputs": [],
   "source": [
    "model.fit(X_train, \n",
    "          y_train, \n",
    "          epochs=10, \n",
    "          batch_size = 32)"
   ]
  },
  {
   "cell_type": "code",
   "execution_count": null,
   "metadata": {},
   "outputs": [],
   "source": [
    "# Evaluate the model on the test set\n",
    "print(\"Evaluate on test data\")\n",
    "results = model.evaluate(X_test, y_test, batch_size=32)\n",
    "\n",
    "print(\"Test MSE:\", results[0])\n",
    "print(\"Test MAE:\", results[1])"
   ]
  },
  {
   "cell_type": "code",
   "execution_count": null,
   "metadata": {},
   "outputs": [],
   "source": [
    "# Prediction\n",
    "y_pred = model.predict(X_test)\n",
    "\n",
    "# the_day is the day from which we will study the n_steps_out-th dayS of prediction into \n",
    "# the future. Note: The first day start at index 0\n",
    "the_day = 0\n",
    "y_pred_days = y_pred[the_day,:]\n",
    "\n",
    "plt.figure(figsize=(10,6))\n",
    "plt.grid(True)\n",
    "plt.plot(y_test[the_day,:],label='Orginal data - transformed')\n",
    "plt.plot(y_pred_days, color='red',label='Predictions - transformed')\n",
    "plt.xlabel('Time (days)')\n",
    "plt.ylabel('Closing Prices amplitude in the transformed space')\n",
    "plt.title('Original data vs predictions in the transformed space')"
   ]
  },
  {
   "cell_type": "code",
   "execution_count": null,
   "metadata": {},
   "outputs": [],
   "source": [
    "pred_diff_cumsum = y_pred_days.cumsum()\n",
    "base_number = df_transform.values[-test_days+the_day+nb_days-1]\n",
    "idx = test_original.iloc[the_day:the_day+n_steps_out].index\n",
    "\n",
    "pred_tf = pd.Series(base_number, index=idx)\n",
    "print(pred_tf)\n",
    "pred_tf = pred_tf.add(pred_diff_cumsum,fill_value=0)\n",
    "\n",
    "print(pred_tf)"
   ]
  },
  {
   "cell_type": "code",
   "execution_count": null,
   "metadata": {},
   "outputs": [],
   "source": [
    "# Take the square, and the exponent\n",
    "pred_log = pred_tf.apply(np.square)\n",
    "pred = pred_log.apply(np.exp)\n",
    "print(pred)"
   ]
  },
  {
   "cell_type": "code",
   "execution_count": null,
   "metadata": {},
   "outputs": [],
   "source": [
    "# Plot actual prices vs predicted prices \n",
    "plt.figure(figsize=(10,6))\n",
    "plt.grid(True)\n",
    "plt.xlabel('Dates')\n",
    "plt.ylabel('Closing Prices')\n",
    "plt.plot(test_original.iloc[max(0,the_day-30):the_day+n_steps_out],'b',label='Actual prices')\n",
    "plt.plot(pred, '-o',color='orange',label='Predicted prices')\n",
    "\n",
    "plt.legend()"
   ]
  },
  {
   "cell_type": "markdown",
   "metadata": {},
   "source": [
    "# Random crap"
   ]
  },
  {
   "cell_type": "code",
   "execution_count": null,
   "metadata": {},
   "outputs": [],
   "source": [
    "pd.options.mode.chained_assignment = None\n",
    "\n",
    "end = datetime.now()\n",
    "start = datetime(end.year-6, end.month, end.day)\n",
    "yf.pdr_override()\n",
    "df = yf.download(\"AAPL\", start='2012-11-1', end=end, interval = \"1h\")\n",
    "df.reset_index()\n",
    "df = df[['Close']].fillna(method='ffill')\n",
    "df = df.set_index(df.index).resample('h').ffill()\n",
    "df.index = df.index.to_period(freq='h')\n",
    "df = df.reset_index()\n",
    "df[\"time_idx\"] = df.index\n",
    "df[\"Constant\"] = [0]*len(df)\n",
    "df"
   ]
  },
  {
   "cell_type": "code",
   "execution_count": null,
   "metadata": {},
   "outputs": [],
   "source": [
    "dataset = TimeSeriesDataSet(\n",
    "    df,\n",
    "    group_ids = [\"Constant\"],\n",
    "    target=\"Close\",\n",
    "    time_idx=\"time_idx\",\n",
    "    min_encoder_length=5,\n",
    "    max_encoder_length=5,\n",
    "    min_prediction_length=2,\n",
    "    max_prediction_length=2,\n",
    ")"
   ]
  },
  {
   "cell_type": "code",
   "execution_count": null,
   "metadata": {},
   "outputs": [],
   "source": [
    "max_encoder_length = 60\n",
    "max_prediction_length = 20\n",
    "\n",
    "training_cutoff = df.index.max() - max_prediction_length\n",
    "\n",
    "context_length = max_encoder_length\n",
    "prediction_length = max_prediction_length\n",
    "\n",
    "training = TimeSeriesDataSet(\n",
    "    df[lambda x: x.index <= training_cutoff],\n",
    "    time_idx=\"time_idx\",\n",
    "    target=\"Close\",\n",
    "    categorical_encoders={\"series\": NaNLabelEncoder().fit(data.series)},\n",
    "    group_ids=[\"series\"],\n",
    "    # only unknown variable is \"value\" - and N-HiTS can also not take any additional variables\n",
    "    time_varying_unknown_reals=[\"value\"],\n",
    "    max_encoder_length=context_length,\n",
    "    max_prediction_length=prediction_length,\n",
    ")\n",
    "\n",
    "validation = TimeSeriesDataSet.from_dataset(training, data, min_prediction_idx=training_cutoff + 1)\n",
    "batch_size = 128\n",
    "train_dataloader = training.to_dataloader(train=True, batch_size=batch_size, num_workers=0)\n",
    "val_dataloader = validation.to_dataloader(train=False, batch_size=batch_size, num_workers=0)"
   ]
  },
  {
   "cell_type": "code",
   "execution_count": null,
   "metadata": {},
   "outputs": [],
   "source": [
    "import random\n",
    "\n",
    "y = df[\"Close\"]\n",
    "X = pd.Series([random.randint(3, 9)]*len(df))\n",
    "X.index = df.index\n",
    "fh = np.arange(1, 37)\n",
    "\n",
    "pipe = ForecastX(  \n",
    "    forecaster_X=VAR(),\n",
    "    forecaster_y=ARIMA(),\n",
    ")\n",
    "pipe = pipe.fit(y, X=X, fh=fh)  \n",
    "y_pred = pipe.predict(X=X)\n",
    "\n",
    "y_pred"
   ]
  },
  {
   "cell_type": "code",
   "execution_count": null,
   "metadata": {},
   "outputs": [],
   "source": [
    "y = df[\"Close\"]\n",
    "fh = np.arange(1, 37)\n",
    "forecaster = NaiveForecaster(strategy=\"drift\")\n",
    "forecaster.fit(y, fh=fh)\n",
    "y_pred = forecaster.predict()\n",
    "y_pred"
   ]
  },
  {
   "cell_type": "code",
   "execution_count": null,
   "metadata": {},
   "outputs": [],
   "source": [
    "from tsfresh import extract_features\n",
    "from tsfresh import select_features\n",
    "from tsfresh.utilities.dataframe_functions import impute\n",
    "from tsfresh import extract_relevant_features\n",
    "\n",
    "extracted_features = extract_features(df, column_id=\"SP500\", column_sort=\"time\")\n",
    "\n",
    "impute(extracted_features)\n",
    "features_filtered = select_features(extracted_features, y)\n",
    "\n",
    "features_filtered_direct = extract_relevant_features(timeseries, y,\n",
    "                                                     column_id='SP500', column_sort='time')"
   ]
  },
  {
   "cell_type": "code",
   "execution_count": null,
   "metadata": {},
   "outputs": [],
   "source": [
    "df = df.reset_index()\n",
    "df[\"Ints\"] = df.index\n",
    "df"
   ]
  },
  {
   "cell_type": "code",
   "execution_count": null,
   "metadata": {},
   "outputs": [],
   "source": [
    "df = df.drop(\"Date\", axis = 1)"
   ]
  },
  {
   "cell_type": "code",
   "execution_count": null,
   "metadata": {},
   "outputs": [],
   "source": [
    "df"
   ]
  },
  {
   "cell_type": "code",
   "execution_count": null,
   "metadata": {},
   "outputs": [],
   "source": [
    "dataset = TimeSeriesDataSet(\n",
    "    df,\n",
    "    group_ids=[\"SP500\"],\n",
    "    target=\"Close\",\n",
    "    time_idx=\"Ints\",\n",
    "    min_encoder_length=5,\n",
    "    max_encoder_length=5,\n",
    "    min_prediction_length=2,\n",
    "    max_prediction_length=2,\n",
    "    time_varying_unknown_reals=[\"value\"],\n",
    ")"
   ]
  },
  {
   "cell_type": "code",
   "execution_count": null,
   "metadata": {},
   "outputs": [],
   "source": [
    "import matplotlib.pyplot as plt\n",
    "import numpy as np\n",
    "import pandas as pd\n",
    "import pytorch_lightning as pl\n",
    "from pytorch_lightning.callbacks import EarlyStopping\n",
    "import torch\n",
    "\n",
    "from pytorch_forecasting import Baseline, NHiTS, TimeSeriesDataSet\n",
    "from pytorch_forecasting.data import NaNLabelEncoder\n",
    "from pytorch_forecasting.data.examples import generate_ar_data\n",
    "from pytorch_forecasting.metrics import SMAPE, QuantileLoss, MQF2DistributionLoss\n",
    "\n",
    "\n",
    "\n",
    "\n",
    "data = generate_ar_data(seasonality=10.0, timesteps=400, n_series=100, seed=42)\n",
    "data[\"static\"] = 2\n",
    "data[\"date\"] = pd.Timestamp(\"2020-01-01\") + pd.to_timedelta(data.time_idx, \"D\")\n",
    "data.head()\n",
    "max_encoder_length = 60\n",
    "max_prediction_length = 20\n",
    "\n",
    "training_cutoff = data[\"time_idx\"].max() - max_prediction_length\n",
    "\n",
    "context_length = max_encoder_length\n",
    "prediction_length = max_prediction_length\n",
    "\n",
    "training = TimeSeriesDataSet(\n",
    "    data[lambda x: x.time_idx <= training_cutoff],\n",
    "    time_idx=\"time_idx\",\n",
    "    target=\"value\",\n",
    "    categorical_encoders={\"series\": NaNLabelEncoder().fit(data.series)},\n",
    "    group_ids=[\"series\"],\n",
    "    # only unknown variable is \"value\" - and N-HiTS can also not take any additional variables\n",
    "    time_varying_unknown_reals=[\"value\"],\n",
    "    max_encoder_length=context_length,\n",
    "    max_prediction_length=prediction_length,\n",
    ")\n",
    "\n",
    "validation = TimeSeriesDataSet.from_dataset(training, data, min_prediction_idx=training_cutoff + 1)\n",
    "batch_size = 128\n",
    "train_dataloader = training.to_dataloader(train=True, batch_size=batch_size, num_workers=0)\n",
    "val_dataloader = validation.to_dataloader(train=False, batch_size=batch_size, num_workers=0)\n",
    "\n",
    "pl.seed_everything(42)\n",
    "trainer = pl.Trainer(gpus=0, gradient_clip_val=1.0)\n",
    "net = NHiTS.from_dataset(\n",
    "    training,\n",
    "    learning_rate=3e-2,\n",
    "    weight_decay=1e-2,\n",
    "    loss=MQF2DistributionLoss(prediction_length=max_prediction_length),\n",
    "    backcast_loss_ratio=0.0,\n",
    "    hidden_size=64,\n",
    ")\n",
    "\n",
    "res = trainer.tuner.lr_find(net, train_dataloaders=train_dataloader, val_dataloaders=val_dataloader, min_lr=1e-5)\n",
    "print(f\"suggested learning rate: {res.suggestion()}\")\n",
    "fig = res.plot(show=True, suggest=True)\n",
    "fig.show()\n",
    "net.hparams.learning_rate = res.suggestion()\n",
    "\n",
    "early_stop_callback = EarlyStopping(monitor=\"val_loss\", min_delta=1e-4, patience=10, verbose=False, mode=\"min\")\n",
    "trainer = pl.Trainer(\n",
    "    max_epochs=5,\n",
    "    gpus=0,\n",
    "    enable_model_summary=True,\n",
    "    gradient_clip_val=1.0,\n",
    "    callbacks=[early_stop_callback],\n",
    "    limit_train_batches=30,\n",
    "    enable_checkpointing=True,\n",
    ")\n",
    "\n",
    "\n",
    "net = NHiTS.from_dataset(\n",
    "    training,\n",
    "    learning_rate=0.09,\n",
    "    log_interval=10,\n",
    "    log_val_interval=1,\n",
    "    weight_decay=1e-2,\n",
    "    backcast_loss_ratio=0.0,\n",
    "    hidden_size=64,\n",
    "    loss=MQF2DistributionLoss(prediction_length=max_prediction_length),\n",
    ")\n",
    "\n",
    "trainer.fit(\n",
    "    net,\n",
    "    train_dataloaders=train_dataloader,\n",
    "    val_dataloaders=val_dataloader,\n",
    ")\n",
    "\n",
    "best_model_path = trainer.checkpoint_callback.best_model_path\n",
    "best_model = NHiTS.load_from_checkpoint(best_model_path)\n",
    "\n",
    "\n",
    "actuals = torch.cat([y[0] for x, y in iter(val_dataloader)])\n",
    "predictions = best_model.predict(val_dataloader)\n",
    "(actuals - predictions).abs().mean()\n",
    "\n",
    "\n",
    "raw_predictions, x = best_model.predict(val_dataloader, mode=\"raw\", return_x=True)\n",
    "\n",
    "for idx in range(10):  # plot 10 examples\n",
    "    best_model.plot_prediction(x, raw_predictions, idx=idx, add_loss_to_title=True);\n",
    "\n",
    "# sample 500 paths\n",
    "samples = best_model.loss.sample(raw_predictions[\"prediction\"][[0]], n_samples=500)[0]\n",
    "\n",
    "# plot prediction\n",
    "fig = best_model.plot_prediction(x, raw_predictions, idx=0, add_loss_to_title=True)\n",
    "ax = fig.get_axes()[0]\n",
    "# plot first two sampled paths\n",
    "ax.plot(samples[:, 0], color=\"g\", label=\"Sample 1\")\n",
    "ax.plot(samples[:, 1], color=\"r\", label=\"Sample 2\")\n",
    "fig.legend();"
   ]
  },
  {
   "cell_type": "code",
   "execution_count": null,
   "metadata": {},
   "outputs": [],
   "source": [
    "!juyp"
   ]
  }
 ],
 "metadata": {
  "kernelspec": {
   "display_name": "Python 3.9 (tensorflow)",
   "language": "python",
   "name": "tensorflow"
  },
  "language_info": {
   "codemirror_mode": {
    "name": "ipython",
    "version": 3
   },
   "file_extension": ".py",
   "mimetype": "text/x-python",
   "name": "python",
   "nbconvert_exporter": "python",
   "pygments_lexer": "ipython3",
   "version": "3.9.14"
  }
 },
 "nbformat": 4,
 "nbformat_minor": 4
}
