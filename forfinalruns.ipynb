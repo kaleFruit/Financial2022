{
 "cells": [
  {
   "cell_type": "markdown",
   "metadata": {},
   "source": [
    "# Imports"
   ]
  },
  {
   "cell_type": "code",
   "execution_count": null,
   "metadata": {},
   "outputs": [],
   "source": [
    "import numpy as np\n",
    "import pandas as pd\n",
    "import yfinance as yf\n",
    "from datetime import datetime, timedelta\n",
    "import matplotlib.pylab as plt\n",
    "from pandas.plotting import register_matplotlib_converters\n",
    "%matplotlib inline\n",
    "import re\n",
    "from sklearn.preprocessing import StandardScaler\n",
    "from sklearn.preprocessing import MinMaxScaler\n",
    "from nltk.sentiment.vader import SentimentIntensityAnalyzer\n",
    "import seaborn as sns\n",
    "import snscrape.modules.twitter as sntwitter\n",
    "import pandas\n",
    "from statsmodels.tsa.seasonal import seasonal_decompose\n",
    "from arch.unitroot import *\n",
    "import tensorflow as tf\n",
    "from tensorflow.keras.models import Sequential\n",
    "from tensorflow.keras.layers import Dense, Dropout, LSTM\n",
    "from statsmodels.tsa.forecasting.theta import ThetaModel"
   ]
  },
  {
   "cell_type": "code",
   "execution_count": null,
   "metadata": {},
   "outputs": [],
   "source": [
    "STOCK= \"TSLA\""
   ]
  },
  {
   "cell_type": "markdown",
   "metadata": {},
   "source": [
    "# Load Data"
   ]
  },
  {
   "cell_type": "code",
   "execution_count": null,
   "metadata": {},
   "outputs": [],
   "source": [
    "pd.options.mode.chained_assignment = None\n",
    "\n",
    "end = datetime.now()\n",
    "start = datetime(end.year-4, end.month, end.day)\n",
    "yf.pdr_override()\n",
    "df = yf.download(STOCK, start=start, end=end, interval = \"1d\")\n",
    "df.reset_index()\n",
    "df = df[['Close']].fillna(method='ffill')\n",
    "df = df.set_index(df.index).resample('D').ffill()\n",
    "df.index = df.index.to_period(freq='D')\n",
    "df"
   ]
  },
  {
   "cell_type": "markdown",
   "metadata": {},
   "source": [
    "#3 Run everything from here on once until the heading says STOP; you don't have to do this after the first time running all the way through"
   ]
  },
  {
   "cell_type": "code",
   "execution_count": null,
   "metadata": {},
   "outputs": [],
   "source": [
    "#https://fred.stlouisfed.org/series/DAAA\n",
    "dateColumn = \"DATE\"\n",
    "new = \"Bonds\"\n",
    "\n",
    "temp = pd.read_csv(\"DAAA.csv\")\n",
    "temp[dateColumn] = pd.DatetimeIndex(temp[dateColumn]).to_period('D')\n",
    "pointer = 0\n",
    "df[new] = np.nan\n",
    "\n",
    "while temp[dateColumn][pointer] < df.index[0]:\n",
    "    pointer += 1\n",
    "for date in df.index:\n",
    "    if temp[dateColumn][pointer] == date:\n",
    "        if (temp.iloc[pointer,1] == \".\"):\n",
    "            temp.iat[pointer,1] = temp.iloc[pointer-1, 1]\n",
    "        df[new].loc[date] = temp.iloc[pointer, 1]\n",
    "        pointer+=1\n",
    "    if pointer == len(temp):\n",
    "        break\n",
    "        \n",
    "print(df[new].isna().sum()/len(df))\n",
    "df[new] = df[new].ffill()\n",
    "df"
   ]
  },
  {
   "cell_type": "markdown",
   "metadata": {},
   "source": [
    "# Gathering Sentiment Data from Twitter"
   ]
  },
  {
   "cell_type": "code",
   "execution_count": null,
   "metadata": {},
   "outputs": [],
   "source": [
    "tweets = pd.read_csv('tweetsPolarity.csv')\n",
    "tweets[\"Datetime\"] = pd.DatetimeIndex(tweets[\"Datetime\"]).to_period('D')\n",
    "tweets.index = tweets[\"Datetime\"]\n",
    "tweets = tweets.drop(\"Datetime\", axis = 1)\n",
    "tweets"
   ]
  },
  {
   "cell_type": "code",
   "execution_count": null,
   "metadata": {},
   "outputs": [],
   "source": [
    "pointer = 0\n",
    "compiledTweets = pd.DataFrame(columns = [\"Polarity\", \"Date\"])\n",
    "while pointer+1 < len(tweets):\n",
    "    tempAggregate = []\n",
    "    while tweets.index[pointer] == tweets.index[pointer+1]:\n",
    "        tempAggregate.append(tweets[\"Polarity\"][pointer])\n",
    "        pointer+=1\n",
    "        if pointer+1 == len(tweets)-1:\n",
    "            tempAggregate.append(tweets[\"Polarity\"][pointer+1])\n",
    "            break\n",
    "    if len(tempAggregate) != 0:\n",
    "        avgPolarity = sum(tempAggregate)/len(tempAggregate)\n",
    "    else:\n",
    "        avgPolarity = tweets[\"Polarity\"][pointer]\n",
    "    row = [avgPolarity, tweets.index[pointer]]\n",
    "    compiledTweets.loc[len(compiledTweets)] = row\n",
    "    pointer += 1\n",
    "compiledTweets"
   ]
  },
  {
   "cell_type": "code",
   "execution_count": null,
   "metadata": {},
   "outputs": [],
   "source": [
    "pointer = 0\n",
    "df[\"Polarity\"] = np.nan\n",
    "while compiledTweets[\"Date\"][pointer] < df.index[0]:\n",
    "    pointer += 1\n",
    "for date in df.index:\n",
    "    if compiledTweets[\"Date\"][pointer] == date:\n",
    "        df[\"Polarity\"].loc[date] = compiledTweets[\"Polarity\"][pointer]\n",
    "        pointer+=1\n",
    "    if pointer == len(compiledTweets):\n",
    "        break\n",
    "print(df[\"Polarity\"].isna().sum()/len(df))\n",
    "df[\"Polarity\"] = df[\"Polarity\"].bfill()\n",
    "df"
   ]
  },
  {
   "cell_type": "code",
   "execution_count": null,
   "metadata": {},
   "outputs": [],
   "source": [
    "df.index = df.index.to_timestamp()"
   ]
  },
  {
   "cell_type": "markdown",
   "metadata": {},
   "source": [
    "# Analysis and Transformations"
   ]
  },
  {
   "cell_type": "code",
   "execution_count": null,
   "metadata": {},
   "outputs": [],
   "source": [
    "adf_ct = ADF(df[\"Close\"])\n",
    "adf_ct.summary()"
   ]
  },
  {
   "cell_type": "code",
   "execution_count": null,
   "metadata": {},
   "outputs": [],
   "source": [
    "plt.plot(df[\"Close\"])"
   ]
  },
  {
   "cell_type": "code",
   "execution_count": null,
   "metadata": {},
   "outputs": [],
   "source": [
    "result = seasonal_decompose(df[\"Close\"], model='multiplicative')\n",
    "fig = plt.figure()  \n",
    "fig = result.plot()  \n",
    "fig.set_size_inches(16, 9)\n",
    "trend = result.trend"
   ]
  },
  {
   "cell_type": "code",
   "execution_count": null,
   "metadata": {},
   "outputs": [],
   "source": [
    "df_transform = df[\"Close\"].apply(np.log)\n",
    "df_transform = pd.DataFrame(df_transform.apply(np.sqrt))\n",
    "plt.figure(figsize = (10,6))\n",
    "plt.plot(df_transform[\"Close\"])\n",
    "\n",
    "#DIFFERENCING\n",
    "df_shift = pd.DataFrame(df_transform - df_transform.shift())\n",
    "df_shift.dropna(inplace=True)\n",
    "\n",
    "for i in df.columns:\n",
    "    if i!=\"Close\":\n",
    "        df_transform[i] = df[i]\n",
    "for i in df.columns:\n",
    "    if i!=\"Close\":\n",
    "        df_shift[i] = df[i]"
   ]
  },
  {
   "cell_type": "code",
   "execution_count": null,
   "metadata": {},
   "outputs": [],
   "source": [
    "adf_ct = ADF(df_shift[\"Close\"])\n",
    "adf_ct.summary()"
   ]
  },
  {
   "cell_type": "code",
   "execution_count": null,
   "metadata": {},
   "outputs": [],
   "source": [
    "sc = StandardScaler()\n",
    "mm = MinMaxScaler(feature_range =(-1, 1))\n",
    "\n",
    "df_shift[\"Bonds\"] = mm.fit_transform(df[[\"Bonds\"]][1:])\n"
   ]
  },
  {
   "cell_type": "code",
   "execution_count": null,
   "metadata": {},
   "outputs": [],
   "source": [
    "df[\"Bonds\"] = df[\"Bonds\"].astype(float)"
   ]
  },
  {
   "cell_type": "code",
   "execution_count": null,
   "metadata": {},
   "outputs": [],
   "source": [
    "df_transform[\"Bonds\"] = df[\"Bonds\"].apply(np.log)\n",
    "df_transform[\"Bonds\"] = df[\"Bonds\"].apply(np.sqrt)\n",
    "\n",
    "#DIFFERENCING\n",
    "df_shift[\"Bonds\"] = pd.DataFrame(df_transform[\"Bonds\"] - df_transform[\"Bonds\"].shift())\n",
    "df_shift.dropna(inplace=True)"
   ]
  },
  {
   "cell_type": "code",
   "execution_count": null,
   "metadata": {},
   "outputs": [],
   "source": [
    "fig, axs = plt.subplots(2,2, sharex=True, sharey=True, figsize = (10,10))\n",
    "\n",
    "axs[0,1].plot(df_shift.index, df_shift.iloc[:,0])\n",
    "axs[0, 1].set_title(df_shift.columns[0])\n",
    "axs[1,1].plot(df_shift.index, df_shift.iloc[:,1])\n",
    "axs[1, 1].set_title(df_shift.columns[1])\n",
    "axs[0,0].plot(df_shift.index, df_shift.iloc[:,2])\n",
    "axs[0, 0].set_title(df_shift.columns[2])\n",
    "\n",
    "for ax in fig.get_axes():\n",
    "    ax.label_outer()\n"
   ]
  },
  {
   "cell_type": "markdown",
   "metadata": {},
   "source": [
    "### LSTM Component"
   ]
  },
  {
   "cell_type": "code",
   "execution_count": null,
   "metadata": {},
   "outputs": [],
   "source": [
    "#where the test will occur; set to 0 if forecasting out-of-sample :)\n",
    "boundary = 0\n",
    "\n",
    "SETX = df_shift[[\"Close\", \"Polarity\", \"Bonds\"]]\n",
    "SETY = df_shift[\"Close\"].to_numpy()\n",
    "\n",
    "X_train = []\n",
    "y_train = []\n",
    "\n",
    "\n",
    "nPast = 60\n",
    "nFuture = 20\n",
    "\n",
    "for i in range(len(df_shift) - (nPast+nFuture)):\n",
    "    y_train.append(SETY[i+nPast: i+nPast+nFuture])\n",
    "\n",
    "for i in range(len(df_shift) - (nPast+nFuture)):\n",
    "    X_train.append(SETX[i: i+nPast])\n",
    "X_train = np.array(X_train)\n",
    "X_train = X_train.reshape((X_train.shape[0], X_train.shape[1], X_train.shape[2]))\n",
    "\n",
    "y_train = np.array(y_train)\n",
    "\n",
    "\n",
    "def vanilla_multistep_LSTM():\n",
    "    model = Sequential()    \n",
    "    model.add(LSTM(units=50, input_shape=(nPast, X_train.shape[2])))\n",
    "    model.add(Dense(nFuture))\n",
    "    return model\n",
    "\n",
    "model = vanilla_multistep_LSTM()\n",
    "model.summary()\n",
    "model.compile(optimizer='adam', \n",
    "              loss='mean_squared_error',\n",
    "              metrics=[tf.keras.metrics.MeanAbsoluteError(), tf.keras.metrics.RootMeanSquaredError()])\n",
    "model.fit(X_train, \n",
    "          y_train, \n",
    "          epochs=20, \n",
    "          batch_size = 32)\n",
    "\n",
    "y_pred = model.predict(X_train)"
   ]
  },
  {
   "cell_type": "markdown",
   "metadata": {},
   "source": [
    "### Adding Theta Model Component"
   ]
  },
  {
   "cell_type": "code",
   "execution_count": null,
   "metadata": {},
   "outputs": [],
   "source": [
    "tm = ThetaModel(df[\"Close\"])\n",
    "theta = tm.fit()\n",
    "print(theta.summary())\n",
    "thetaResults = theta.forecast(steps = 20)\n",
    "print(thetaResults)"
   ]
  },
  {
   "cell_type": "code",
   "execution_count": null,
   "metadata": {
    "scrolled": true
   },
   "outputs": [],
   "source": [
    "y_pred_days = y_pred[0,:]\n",
    "\n",
    "thetaResultsTransform = thetaResults.apply(np.log)\n",
    "thetaResultsTransform = pd.Series(thetaResultsTransform.apply(np.sqrt))\n",
    "pred_diff_cumsum = y_pred_days.cumsum()\n",
    "pred_tf = thetaResultsTransform.add(pred_diff_cumsum,fill_value=0)\n",
    "pred_log = pred_tf.apply(np.square)\n",
    "pred = pred_log.apply(np.exp)\n",
    "\n",
    "baseNum = df_transform[\"Close\"][len(df)-1]\n",
    "idx = []\n",
    "for i in range(nFuture):\n",
    "    idx.append(df.index[len(df.index)-1]+timedelta(days=i))\n",
    "testPredSeries = pd.Series(baseNum, index = idx)\n",
    "testPred = testPredSeries.add(pred_diff_cumsum, fill_value = 0)\n",
    "testPred_log = testPred.apply(np.square)\n",
    "testPredFinal = testPred_log.apply(np.exp)\n",
    "\n",
    "\n",
    "plt.figure(figsize=(10,6))\n",
    "plt.grid(True)\n",
    "plt.xlabel('Dates')\n",
    "plt.ylabel('Closing Prices')\n",
    "plt.plot(df[\"Close\"][-nPast-boundary:],'b',label='Actual prices')\n",
    "plt.plot(pred, '-o',color='orange',label='Predicted prices')\n",
    "plt.plot(thetaResults, color = \"green\")\n",
    "plt.plot(testPredFinal, color = \"red\")\n",
    "\n",
    "plt.legend()\n",
    "\n",
    "export = pd.DataFrame(pred)\n",
    "export = export.rename(columns = {\"forecast\": STOCK})\n",
    "export.to_csv(f\"{STOCK} predictions\")"
   ]
  }
 ],
 "metadata": {
  "kernelspec": {
   "display_name": "Python 3.9 (tensorflow)",
   "language": "python",
   "name": "tensorflow"
  },
  "language_info": {
   "codemirror_mode": {
    "name": "ipython",
    "version": 3
   },
   "file_extension": ".py",
   "mimetype": "text/x-python",
   "name": "python",
   "nbconvert_exporter": "python",
   "pygments_lexer": "ipython3",
   "version": "3.9.14"
  }
 },
 "nbformat": 4,
 "nbformat_minor": 4
}
