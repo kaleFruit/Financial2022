{
 "cells": [
  {
   "cell_type": "markdown",
   "metadata": {},
   "source": [
    "# Imports"
   ]
  },
  {
   "cell_type": "code",
   "execution_count": null,
   "metadata": {},
   "outputs": [],
   "source": [
    "import numpy as np\n",
    "import pandas as pd\n",
    "import yfinance as yf\n",
    "from datetime import datetime, timedelta\n",
    "import matplotlib.pylab as plt\n",
    "from pandas.plotting import register_matplotlib_converters\n",
    "%matplotlib inline\n",
    "import re\n",
    "from sklearn.preprocessing import StandardScaler\n",
    "from sklearn.preprocessing import MinMaxScaler\n",
    "from nltk.sentiment.vader import SentimentIntensityAnalyzer\n",
    "import seaborn as sns\n",
    "import snscrape.modules.twitter as sntwitter\n",
    "import pandas\n",
    "from statsmodels.tsa.seasonal import seasonal_decompose\n",
    "from arch.unitroot import *\n",
    "import tensorflow as tf\n",
    "from tensorflow.keras.models import Sequential\n",
    "from tensorflow.keras.layers import Dense, Dropout, LSTM\n",
    "from statsmodels.tsa.forecasting.theta import ThetaModel\n",
    "from statsmodels.tsa.arima_model import ARIMA"
   ]
  },
  {
   "cell_type": "markdown",
   "metadata": {},
   "source": [
    "# Load Data"
   ]
  },
  {
   "cell_type": "code",
   "execution_count": null,
   "metadata": {},
   "outputs": [],
   "source": [
    "pd.options.mode.chained_assignment = None\n",
    "\n",
    "end = datetime.now()\n",
    "start = datetime(end.year-4, end.month, end.day)\n",
    "yf.pdr_override()\n",
    "df = yf.download(\"AAPL\", start=start, end=end, interval = \"1d\")\n",
    "df.reset_index()\n",
    "df = df[['Close']].fillna(method='ffill')\n",
    "df = df.set_index(df.index).resample('D').ffill()\n",
    "df.index = df.index.to_period(freq='D')\n",
    "df"
   ]
  },
  {
   "cell_type": "code",
   "execution_count": null,
   "metadata": {},
   "outputs": [],
   "source": [
    "#https://www.macrotrends.net/2516/wti-crude-oil-prices-10-year-daily-chart\n",
    "dateColumn = \"date\"\n",
    "new = \"Oil\"\n",
    "\n",
    "temp = pd.read_csv(\"crudeOilPrices.csv\", header = 8)\n",
    "temp[dateColumn] = pd.DatetimeIndex(temp[dateColumn]).to_period('D')\n",
    "pointer = 0\n",
    "df[new] = np.nan\n",
    "while temp[dateColumn][pointer] < df.index[0]:\n",
    "    pointer += 1\n",
    "for date in df.index:\n",
    "    if temp[dateColumn][pointer] == date:\n",
    "        df[new].loc[date] = temp.iloc[pointer, 1]\n",
    "        pointer+=1\n",
    "    if pointer == len(temp):\n",
    "        break\n",
    "print(df[new].isna().sum()/len(df))\n",
    "df[new] = df[new].ffill()\n",
    "df"
   ]
  },
  {
   "cell_type": "code",
   "execution_count": null,
   "metadata": {},
   "outputs": [],
   "source": [
    "#https://stockanalysis.com/stocks/amzn/financials/balance-sheet/trailing/\n",
    "temp = pd.read_csv(\"apple stock analysis - Sheet1.csv\")\n",
    "temp = temp.transpose()\n",
    "temp.columns = temp.iloc[0]\n",
    "temp = temp.iloc[1:]\n",
    "#temp.index = pd.DatetimeIndex(temp.index).to_period('Q')\n",
    "temp = temp.drop([\"Other Current Assets\",\"Net Cash / Debt Growth\"], axis = 1)\n",
    "temp = temp.iloc[::-1]\n",
    "temp.loc[\"2022-12-31\"] = temp.iloc[len(temp)-1]\n",
    "temp.index= pd.DatetimeIndex(temp.index).to_period('Q').to_timestamp()\n",
    "\n",
    "\n",
    "i = 0\n",
    "while (temp.index[i] < df.index[0]):\n",
    "    temp = temp.iloc[1:]\n",
    "    i+=1\n",
    "\n",
    "for row in range(len(temp)): \n",
    "    for column in range(len(temp.columns)):\n",
    "        temp.iat[row,column] = temp.iloc[row, column].replace(\",\", \"\")\n",
    "        temp.iat[row,column] = temp.iloc[row, column].replace(\"%\", \"\")\n",
    "temp = temp.astype(float)\n",
    "\n",
    "df[temp.columns] = temp.columns\n",
    "df[temp.columns] = np.nan\n",
    "analysisData = list(temp.columns)\n",
    "pointerT = 0\n",
    "pointerD = 0\n",
    "while pointerT != len(temp) and pointerD != len(df):\n",
    "    if temp.index[pointerT].year == df.index[pointerD].year and temp.index[pointerT].quarter == df.index[pointerD].quarter:\n",
    "        df.loc[df.index[pointerD],temp.columns] = temp.iloc[pointerT]\n",
    "        pointerD+=1\n",
    "    else:\n",
    "        pointerT+=1\n",
    "        \n",
    "df\n",
    "    "
   ]
  },
  {
   "cell_type": "code",
   "execution_count": null,
   "metadata": {},
   "outputs": [],
   "source": [
    "numRowPlot = 4\n",
    "fig, axs = plt.subplots(len(analysis),numRowPlot, sharex=True, sharey=True, figsize = (10,100))\n",
    "\n",
    "for i in range(len(analysis)):\n",
    "    axs[int(i/numRowPlot), i%numRowPlot].plot(df.index, df.loc[:, analysis[i]])\n",
    "    axs[int(i/numRowPlot), i%numRowPlot].set_title(analysis[i])"
   ]
  },
  {
   "cell_type": "code",
   "execution_count": null,
   "metadata": {},
   "outputs": [],
   "source": [
    "#https://fred.stlouisfed.org/series/DAAA\n",
    "dateColumn = \"DATE\"\n",
    "new = \"Bonds\"\n",
    "\n",
    "temp = pd.read_csv(\"DAAA.csv\")\n",
    "temp[dateColumn] = pd.DatetimeIndex(temp[dateColumn]).to_period('D').to_timestamp()\n",
    "pointer = 0\n",
    "df[new] = np.nan\n",
    "\n",
    "while temp[dateColumn][pointer] < df.index[0]:\n",
    "    pointer += 1\n",
    "for date in df.index:\n",
    "    if temp[dateColumn][pointer] == date:\n",
    "        if (temp.iloc[pointer,1] == \".\"):\n",
    "            temp.iat[pointer,1] = temp.iloc[pointer-1, 1]\n",
    "        df[new].loc[date] = temp.iloc[pointer, 1]\n",
    "        pointer+=1\n",
    "    if pointer == len(temp):\n",
    "        break\n",
    "        \n",
    "print(df[new].isna().sum()/len(df))\n",
    "df[new] = df[new].ffill()\n",
    "df"
   ]
  },
  {
   "cell_type": "markdown",
   "metadata": {},
   "source": [
    "# Gathering Sentiment Data from Twitter"
   ]
  },
  {
   "cell_type": "code",
   "execution_count": null,
   "metadata": {},
   "outputs": [],
   "source": [
    "sources = [\"ETTelecom\", \"CNBCnow\", \"business\", \"GoldmanSachs\", \"pkedrosky\", \"ritholz\", \"DavidSchawel\", \"wallstreetmojo\", \"howardlindzon\", \"conorsen\", \"ReformedBroker\", \"mark_dow\"]\n",
    "topics = [\"market\", \"stocks\", \"prices\", \"employment\"]\n",
    "numTweets = 500\n",
    "tweets_list = []\n",
    "\n",
    "end = datetime.now()\n",
    "start = datetime(end.year-6, end.month, end.day)\n",
    "formattedEnd = end.strftime(\"%Y-%m-%d\")\n",
    "formattedStart = start.strftime(\"%Y-%m-%d\")\n",
    "for source in sources:\n",
    "    for topic in topics:\n",
    "        for i,tweet in enumerate(sntwitter.TwitterSearchScraper(f'{topic} since:{formattedStart} until:{formattedEnd} from:{source}').get_items()):\n",
    "            if i>numTweets:\n",
    "                break\n",
    "            tweets_list.append([tweet.date, tweet.id, tweet.content, tweet.user.username])\n",
    "\n",
    "def cleanTxt(text):\n",
    "    text = re.sub('@[A-Za-z0–9]+', '', text) #Removing @mentions\n",
    "    text = re.sub('#', '', text) # Removing '#' hash tag\n",
    "    text = re.sub('RT[\\s]+', '', text) # Removing RT\n",
    "    text = re.sub('https?:\\/\\/\\S+', '', text) # Removing hyperlink\n",
    "    emoj = re.compile(\"[\"\n",
    "        u\"\\U0001F600-\\U0001F64F\" \n",
    "        u\"\\U0001F300-\\U0001F5FF\"  \n",
    "        u\"\\U0001F680-\\U0001F6FF\"  \n",
    "        u\"\\U0001F1E0-\\U0001F1FF\"  \n",
    "        u\"\\U00002500-\\U00002BEF\"  \n",
    "        u\"\\U00002702-\\U000027B0\"\n",
    "        u\"\\U00002702-\\U000027B0\"\n",
    "        u\"\\U000024C2-\\U0001F251\"\n",
    "        u\"\\U0001f926-\\U0001f937\"\n",
    "        u\"\\U00010000-\\U0010ffff\"\n",
    "        u\"\\u2640-\\u2642\" \n",
    "        u\"\\u2600-\\u2B55\"\n",
    "        u\"\\u200d\"\n",
    "        u\"\\u23cf\"\n",
    "        u\"\\u23e9\"\n",
    "        u\"\\u231a\"\n",
    "        u\"\\ufe0f\" \n",
    "        u\"\\u3030\" \n",
    "        \"]+\", re.UNICODE)\n",
    "    text = re.sub(emoj, '', text)\n",
    "    return text\n",
    "tweets_df = pd.DataFrame(tweets_list, columns=['Datetime', 'Tweet Id', 'Text', \"user\"])\n",
    "tweets_df[\"Text\"] = tweets_df[\"Text\"].apply(cleanTxt)\n",
    "tweets_df\n",
    "tweets_df.to_csv(\"tweets.csv\")"
   ]
  },
  {
   "cell_type": "code",
   "execution_count": null,
   "metadata": {},
   "outputs": [],
   "source": [
    "def cleanTxt(text):\n",
    "    text = re.sub('@[A-Za-z0–9]+', '', text) #Removing @mentions\n",
    "    text = re.sub('#', '', text) # Removing '#' hash tag\n",
    "    text = re.sub('RT[\\s]+', '', text) # Removing RT\n",
    "    text = re.sub('https?:\\/\\/\\S+', '', text) # Removing hyperlink\n",
    "    emoj = re.compile(\"[\"\n",
    "        u\"\\U0001F600-\\U0001F64F\" \n",
    "        u\"\\U0001F300-\\U0001F5FF\"  \n",
    "        u\"\\U0001F680-\\U0001F6FF\"  \n",
    "        u\"\\U0001F1E0-\\U0001F1FF\"  \n",
    "        u\"\\U00002500-\\U00002BEF\"  \n",
    "        u\"\\U00002702-\\U000027B0\"\n",
    "        u\"\\U00002702-\\U000027B0\"\n",
    "        u\"\\U000024C2-\\U0001F251\"\n",
    "        u\"\\U0001f926-\\U0001f937\"\n",
    "        u\"\\U00010000-\\U0010ffff\"\n",
    "        u\"\\u2640-\\u2642\" \n",
    "        u\"\\u2600-\\u2B55\"\n",
    "        u\"\\u200d\"\n",
    "        u\"\\u23cf\"\n",
    "        u\"\\u23e9\"\n",
    "        u\"\\u231a\"\n",
    "        u\"\\ufe0f\" \n",
    "        u\"\\u3030\" \n",
    "        \"]+\", re.UNICODE)\n",
    "    text = re.sub(emoj, '', text)\n",
    "    return text\n",
    "tweets_df = pd.DataFrame(tweets_list, columns=['Datetime', 'Tweet Id', 'Text', \"user\"])\n",
    "tweets_df[\"Text\"] = tweets_df[\"Text\"].apply(cleanTxt)\n",
    "tweets_df\n",
    "tweets_df.to_csv(\"tweets.csv\")"
   ]
  },
  {
   "cell_type": "code",
   "execution_count": null,
   "metadata": {},
   "outputs": [],
   "source": [
    "tweets = pd.read_csv(\"tweets.csv\")\n",
    "tweets = tweets.drop([\"Tweet Id\", \"user\", \"Unnamed: 0\"], axis = 1)\n",
    "\n",
    "sia = SentimentIntensityAnalyzer()\n",
    "polarity = []\n",
    "for i in tweets[\"Text\"]:\n",
    "    polarity.append(sia.polarity_scores(i)[\"compound\"])\n",
    "tweets[\"Polarity\"] = polarity\n",
    "\n",
    "tweets.index = pd.to_datetime(tweets[\"Datetime\"]).dt.date\n",
    "tweets.index = pd.DatetimeIndex(tweets.index).to_period('D')\n",
    "tweets = tweets.drop([\"Datetime\", \"Text\"], axis = 1)\n",
    "tweets = tweets.sort_index()\n",
    "tweets.to_csv(\"tweetsPolarity.csv\")\n",
    "tweets"
   ]
  },
  {
   "cell_type": "code",
   "execution_count": null,
   "metadata": {},
   "outputs": [],
   "source": [
    "tweets = pd.read_csv('tweetsPolarity.csv')\n",
    "tweets[\"Datetime\"] = pd.DatetimeIndex(tweets[\"Datetime\"]).to_period('D')\n",
    "tweets.index = tweets[\"Datetime\"]\n",
    "tweets = tweets.drop(\"Datetime\", axis = 1)\n",
    "tweets.index = tweets.index.to_timestamp()\n",
    "tweets"
   ]
  },
  {
   "cell_type": "code",
   "execution_count": null,
   "metadata": {},
   "outputs": [],
   "source": [
    "pointer = 0\n",
    "compiledTweets = pd.DataFrame(columns = [\"Polarity\", \"Date\"])\n",
    "while pointer+1 < len(tweets):\n",
    "    tempAggregate = []\n",
    "    while tweets.index[pointer] == tweets.index[pointer+1]:\n",
    "        tempAggregate.append(tweets[\"Polarity\"][pointer])\n",
    "        pointer+=1\n",
    "        if pointer+1 == len(tweets)-1:\n",
    "            tempAggregate.append(tweets[\"Polarity\"][pointer+1])\n",
    "            break\n",
    "    if len(tempAggregate) != 0:\n",
    "        avgPolarity = sum(tempAggregate)/len(tempAggregate)\n",
    "    else:\n",
    "        avgPolarity = tweets[\"Polarity\"][pointer]\n",
    "    row = [avgPolarity, tweets.index[pointer]]\n",
    "    compiledTweets.loc[len(compiledTweets)] = row\n",
    "    pointer += 1\n",
    "compiledTweets"
   ]
  },
  {
   "cell_type": "code",
   "execution_count": null,
   "metadata": {},
   "outputs": [],
   "source": [
    "pointer = 0\n",
    "df[\"Polarity\"] = np.nan\n",
    "while compiledTweets[\"Date\"][pointer] < df.index[0]:\n",
    "    pointer += 1\n",
    "for date in df.index:\n",
    "    if compiledTweets[\"Date\"][pointer] == date:\n",
    "        df[\"Polarity\"].loc[date] = compiledTweets[\"Polarity\"][pointer]\n",
    "        pointer+=1\n",
    "    if pointer == len(compiledTweets):\n",
    "        break\n",
    "print(df[\"Polarity\"].isna().sum()/len(df))\n",
    "df[\"Polarity\"] = df[\"Polarity\"].bfill()\n",
    "df"
   ]
  },
  {
   "cell_type": "code",
   "execution_count": null,
   "metadata": {},
   "outputs": [],
   "source": [
    "import dataframe_image as dfi\n",
    "dfi.export(df[:5],\"mytable.png\")"
   ]
  },
  {
   "cell_type": "code",
   "execution_count": null,
   "metadata": {},
   "outputs": [],
   "source": [
    "df.index = df.index.to_timestamp()"
   ]
  },
  {
   "cell_type": "markdown",
   "metadata": {},
   "source": [
    "# Analysis and Transformations"
   ]
  },
  {
   "cell_type": "code",
   "execution_count": null,
   "metadata": {},
   "outputs": [],
   "source": [
    "adf_ct = ADF(df[\"Close\"])\n",
    "adf_ct.summary()"
   ]
  },
  {
   "cell_type": "code",
   "execution_count": null,
   "metadata": {},
   "outputs": [],
   "source": [
    "plt.plot(df[\"Close\"])"
   ]
  },
  {
   "cell_type": "code",
   "execution_count": null,
   "metadata": {},
   "outputs": [],
   "source": [
    "result = seasonal_decompose(df[\"Close\"], model='multiplicative')\n",
    "fig = plt.figure()  \n",
    "fig = result.plot()  \n",
    "fig.set_size_inches(16, 9)\n",
    "trend = result.trend"
   ]
  },
  {
   "cell_type": "code",
   "execution_count": null,
   "metadata": {},
   "outputs": [],
   "source": [
    "df_transform = df[\"Close\"].apply(np.log)\n",
    "df_transform = pd.DataFrame(df_transform.apply(np.sqrt))\n",
    "plt.figure(figsize = (10,6))\n",
    "plt.plot(df_transform[\"Close\"])\n",
    "df_shift = pd.DataFrame(df_transform - df_transform.shift())\n",
    "df_shift.dropna(inplace=True)\n",
    "\n",
    "for i in df.columns:\n",
    "    if i!=\"Close\":\n",
    "        df_transform[i] = df[i]\n",
    "for i in df.columns:\n",
    "    if i!=\"Close\":\n",
    "        df_shift[i] = df[i]"
   ]
  },
  {
   "cell_type": "code",
   "execution_count": null,
   "metadata": {},
   "outputs": [],
   "source": [
    "adf_ct = ADF(df_shift[\"Close\"])\n",
    "adf_ct.summary()"
   ]
  },
  {
   "cell_type": "code",
   "execution_count": null,
   "metadata": {},
   "outputs": [],
   "source": [
    "sc = StandardScaler()\n",
    "mm = MinMaxScaler(feature_range =(-1, 1))\n",
    "\n",
    "features = [\"Oil\", \"Bonds\"]\n",
    "for feature in features:\n",
    "    df_shift[feature] = mm.fit_transform(df[[feature]][1:])"
   ]
  },
  {
   "cell_type": "code",
   "execution_count": null,
   "metadata": {},
   "outputs": [],
   "source": [
    "df[\"Bonds\"] = df[\"Bonds\"].astype(float)"
   ]
  },
  {
   "cell_type": "code",
   "execution_count": null,
   "metadata": {},
   "outputs": [],
   "source": [
    "features = [\"Oil\", \"Bonds\"] \n",
    "\n",
    "for feature in features:\n",
    "    df_transform[feature] = df[feature].apply(np.log)\n",
    "    df_transform[feature] = df[feature].apply(np.sqrt)\n",
    "    df_shift[feature] = pd.DataFrame(df_transform[feature] - df_transform[feature].shift())\n",
    "\n",
    "df_shift.dropna(inplace=True)\n",
    "\n",
    "\n",
    "# df_transform[\"Oil\"] = df[\"Oil\"].apply(np.log)\n",
    "# df_transform[\"Oil\"] = df[\"Oil\"].apply(np.sqrt)\n",
    "\n",
    "# #DIFFERENCING\n",
    "# df_shift[\"Oil\"] = pd.DataFrame(df_transform[\"Oil\"] - df_transform[\"Oil\"].shift())\n",
    "# df_shift.dropna(inplace=True)"
   ]
  },
  {
   "cell_type": "code",
   "execution_count": null,
   "metadata": {},
   "outputs": [],
   "source": [
    "numRows = 4\n",
    "fig, axs = plt.subplots(int(len(df.columns)/numRows)+1, numRows, sharex=True, sharey=True, figsize = (10,5))\n",
    "\n",
    "for i in range(len(df.columns)):\n",
    "    axs[int(i/numRows), i%numRows].plot(df_shift.index, df_shift.iloc[:,i])\n",
    "    axs[int(i/numRows), i%numRows].set_title(df_shift.columns[i])\n",
    "\n",
    "for ax in fig.get_axes():\n",
    "    ax.label_outer()\n",
    "    ax.tick_params(labelrotation=45)\n"
   ]
  },
  {
   "cell_type": "markdown",
   "metadata": {},
   "source": [
    "# Building the Model"
   ]
  },
  {
   "cell_type": "code",
   "execution_count": null,
   "metadata": {},
   "outputs": [],
   "source": [
    "print(options)"
   ]
  },
  {
   "cell_type": "code",
   "execution_count": null,
   "metadata": {},
   "outputs": [],
   "source": [
    "options = [\"Close\", \"Polarity\", \"Bonds\"] \n",
    "SETX = df_shift[options]\n",
    "SETY = df_shift[\"Close\"].to_numpy()\n",
    "\n",
    "X = []\n",
    "y = []\n",
    "\n",
    "nPast = 60\n",
    "nFuture = 20\n",
    "\n",
    "for i in range(len(df_shift) - (nPast+nFuture)):\n",
    "    X.append(SETX[i: i+nPast])\n",
    "    y.append(SETY[i+nPast: i+nPast+nFuture])\n",
    "    \n",
    "X = np.array(X)\n",
    "X = X.reshape((X.shape[0], X.shape[1], X.shape[2]))\n",
    "y = np.array(y)\n",
    "\n",
    "split = int(0.9*(len(X)))\n",
    "print(len(X)-split)\n",
    "\n",
    "split = 150\n",
    "X_train = X[:-split]\n",
    "X_test = X[-split:]\n",
    "y_train = y[:-split]\n",
    "y_test = y[-split:]\n",
    "\n",
    "train_original = df[\"Close\"].iloc[:-split]\n",
    "test_original = df[\"Close\"].iloc[-split:]\n",
    "\n",
    "plt.figure(figsize=(10,6))\n",
    "plt.grid(True)\n",
    "plt.xlabel('Dates')\n",
    "plt.ylabel('Closing Prices')\n",
    "plt.plot(train_original, 'b', label='Train data')\n",
    "plt.plot(test_original, 'g', label='Test data')\n",
    "plt.legend()"
   ]
  },
  {
   "cell_type": "code",
   "execution_count": null,
   "metadata": {},
   "outputs": [],
   "source": [
    "def basicLSTM():\n",
    "    model = Sequential()    \n",
    "    model.add(LSTM(units=50, input_shape=(60, X_train.shape[2])))\n",
    "    model.add(Dense(nFuture))\n",
    "    return model\n",
    "\n",
    "model = basicLSTM()\n",
    "model.summary()\n",
    "model.compile(optimizer='adam', \n",
    "              loss='mean_squared_error',\n",
    "              metrics=[tf.keras.metrics.MeanAbsoluteError(), tf.keras.metrics.RootMeanSquaredError()])\n",
    "model.fit(X_train, \n",
    "          y_train, \n",
    "          epochs=20, \n",
    "          batch_size = 32)"
   ]
  },
  {
   "cell_type": "code",
   "execution_count": null,
   "metadata": {},
   "outputs": [],
   "source": [
    "print(\"Evaluate on test data\")\n",
    "results = model.evaluate(X_test, y_test, batch_size=32)\n",
    "print(\"Test MSE:\", results[0])\n",
    "print(\"Test MAE:\", results[1])\n",
    "print(f\"Test RMSE: {results[2]}\")"
   ]
  },
  {
   "cell_type": "markdown",
   "metadata": {},
   "source": [
    "# 10 epochs; test batch size = 150 days\n",
    "\n",
    "## Just close\n",
    "Test MSE: 1.791499016690068e-05\n",
    "Test MAE: 0.0029031261801719666\n",
    "Test RMSE: 0.004232610110193491\n",
    "\n",
    "## Close and polarity\n",
    "Test MSE: 1.778067962732166e-05\n",
    "Test MAE: 0.0028643100522458553\n",
    "Test RMSE: 0.004216714296489954\n",
    "\n",
    "## Close and polarity \n",
    "Test MSE: 1.811951915442478e-05\n",
    "Test MAE: 0.00288763246499002\n",
    "Test RMSE: 0.004256702959537506\n",
    "\n",
    "## Close and oil\n",
    "Test MSE: 2.3337508537224494e-05\n",
    "Test MAE: 0.003509829519316554\n",
    "Test RMSE: 0.0048308908008039\n",
    "\n",
    "## Close, oil, polarity\n",
    "Test MSE: 2.134706301148981e-05\n",
    "Test MAE: 0.003339627990499139\n",
    "Test RMSE: 0.00462028803303837\n",
    "\n",
    "\n",
    "## Close, polarity, bonds (differenced)\n",
    "Test MSE: 1.7875701814773493e-05\n",
    "Test MAE: 0.002903253072872758\n",
    "Test RMSE: 0.0042279670014977455"
   ]
  },
  {
   "cell_type": "code",
   "execution_count": null,
   "metadata": {},
   "outputs": [],
   "source": [
    "# Prediction\n",
    "y_pred = model.predict(X_test)\n",
    "\n",
    "# the_day is the day from which we will study the n_steps_out-th dayS of prediction into \n",
    "# the future. Note: The first day start at index 0\n",
    "the_day = 0\n",
    "y_pred_days = y_pred[the_day,:]\n",
    "\n",
    "plt.figure(figsize=(10,6))\n",
    "plt.grid(True)\n",
    "plt.plot(y_test[the_day,:],label='Orginal data - transformed')\n",
    "plt.plot(y_pred_days, color='red',label='Predictions - transformed')\n",
    "plt.xlabel('Time (days)')\n",
    "plt.ylabel('Closing Prices amplitude in the transformed space')\n",
    "plt.title('Original data vs predictions in the transformed space')"
   ]
  },
  {
   "cell_type": "code",
   "execution_count": null,
   "metadata": {},
   "outputs": [],
   "source": [
    "train_original = df[\"Close\"].iloc[:-split]\n",
    "test_original = df[\"Close\"].iloc[-split:]\n",
    "\n",
    "pred_diff_cumsum = y_pred_days.cumsum()\n",
    "base_number = df_transform[\"Close\"].values[-split+the_day+nPast-1]\n",
    "idx = test_original.iloc[the_day:the_day+nFuture].index\n",
    "\n",
    "pred_tf = pd.Series(base_number, index=idx)\n",
    "pred_tf = pred_tf.add(pred_diff_cumsum,fill_value=0)\n",
    "\n",
    "pred_log = pred_tf.apply(np.square)\n",
    "pred = pred_log.apply(np.exp)\n",
    "print(pred)"
   ]
  },
  {
   "cell_type": "code",
   "execution_count": null,
   "metadata": {},
   "outputs": [],
   "source": [
    "# Plot actual prices vs predicted prices \n",
    "plt.figure(figsize=(10,6))\n",
    "plt.grid(True)\n",
    "plt.xlabel('Dates')\n",
    "plt.ylabel('Closing Prices')\n",
    "plt.plot(test_original.iloc[max(0,the_day-30):the_day+nFuture],'b',label='Actual prices')\n",
    "plt.plot(pred, '-o',color='orange',label='Predicted prices')\n",
    "\n",
    "plt.legend()"
   ]
  },
  {
   "cell_type": "markdown",
   "metadata": {},
   "source": [
    "# LSTM with Theta"
   ]
  },
  {
   "cell_type": "markdown",
   "metadata": {},
   "source": [
    "### LSTM Component"
   ]
  },
  {
   "cell_type": "code",
   "execution_count": null,
   "metadata": {
    "scrolled": true
   },
   "outputs": [],
   "source": [
    "df_shift"
   ]
  },
  {
   "cell_type": "code",
   "execution_count": null,
   "metadata": {},
   "outputs": [],
   "source": [
    "#where the test will occur; set to 0 if forecasting out-of-sample :)\n",
    "boundary = 20\n",
    "\n",
    "SETX = df_shift[[\"Close\", \"Polarity\", \"Bonds\"]]\n",
    "SETY = df_shift[\"Close\"].to_numpy()\n",
    "\n",
    "X = []\n",
    "y = []\n",
    "\n",
    "\n",
    "nPast = 60\n",
    "nFuture = 20\n",
    "\n",
    "for i in range(len(df_shift) - (nPast+nFuture)):\n",
    "    X.append(SETX[i: i+nPast])\n",
    "    y.append(SETY[i+nPast: i+nPast+nFuture])\n",
    "if boundary < 20:\n",
    "    for i in range(len(df_shift) - (nPast+nFuture-boundary)):\n",
    "        X.append(SETX[i: i+nPast])\n",
    "\n",
    "X = np.array(X)\n",
    "X = X.reshape((X.shape[0], X.shape[1], X.shape[2]))\n",
    "X_train = X[:-boundary]\n",
    "X_test = X[-boundary:]\n",
    "\n",
    "y = np.array(y)\n",
    "y_train = y[:-boundary]\n",
    "y_test = y[:-boundary]\n",
    "\n",
    "def vanilla_multistep_LSTM():\n",
    "    model = Sequential()    \n",
    "    model.add(LSTM(units=50, input_shape=(nPast, X_train.shape[2])))\n",
    "    model.add(Dense(nFuture))\n",
    "    return model\n",
    "\n",
    "model = vanilla_multistep_LSTM()\n",
    "model.summary()\n",
    "model.compile(optimizer='adam', \n",
    "              loss='mean_squared_error',\n",
    "              metrics=[tf.keras.metrics.MeanAbsoluteError(), tf.keras.metrics.RootMeanSquaredError()])\n",
    "model.fit(X_train, \n",
    "          y_train, \n",
    "          epochs=10, \n",
    "          batch_size = 32)\n",
    "\n",
    "y_pred = model.predict(X_test)"
   ]
  },
  {
   "cell_type": "markdown",
   "metadata": {},
   "source": [
    "### Adding Theta Model Component"
   ]
  },
  {
   "cell_type": "code",
   "execution_count": null,
   "metadata": {},
   "outputs": [],
   "source": [
    "tm = ThetaModel(df[\"Close\"][:-boundary])\n",
    "theta = tm.fit()\n",
    "print(theta.summary())\n",
    "thetaResults = theta.forecast(steps = 20)\n",
    "print(thetaResults)"
   ]
  },
  {
   "cell_type": "code",
   "execution_count": null,
   "metadata": {
    "scrolled": true
   },
   "outputs": [],
   "source": [
    "y_pred_days = y_pred[0,:]\n",
    "\n",
    "thetaResultsTransform = thetaResults.apply(np.log)\n",
    "thetaResultsTransform = pd.Series(thetaResultsTransform.apply(np.sqrt))\n",
    "pred_diff_cumsum = y_pred_days.cumsum()\n",
    "pred_tf = thetaResultsTransform.add(pred_diff_cumsum,fill_value=0)\n",
    "pred_log = pred_tf.apply(np.square)\n",
    "pred = pred_log.apply(np.exp)\n",
    "\n",
    "baseNum = df_transform[\"Close\"][-boundary-1]\n",
    "idx = []\n",
    "for i in range(nFuture):\n",
    "    idx.append(df.index[-boundary]+timedelta(days=i))\n",
    "testPredSeries = pd.Series(baseNum, index = idx)\n",
    "testPred = testPredSeries.add(pred_diff_cumsum, fill_value = 0)\n",
    "testPred_log = testPred.apply(np.square)\n",
    "testPredFinal = testPred_log.apply(np.exp)\n",
    "\n",
    "\n",
    "plt.figure(figsize=(10,6))\n",
    "plt.grid(True)\n",
    "plt.xlabel('Dates')\n",
    "plt.ylabel('Closing Prices')\n",
    "plt.plot(df[\"Close\"][-nPast-boundary:],'b',label='Actual prices')\n",
    "plt.plot(pred, '-o',color='orange',label='Predicted prices')\n",
    "plt.plot(thetaResults, color = \"green\")\n",
    "plt.plot(testPredFinal, color = \"red\")\n",
    "\n",
    "plt.legend()\n",
    "\n",
    "PREDICTIONS = pred"
   ]
  }
 ],
 "metadata": {
  "kernelspec": {
   "display_name": "bruh",
   "language": "python",
   "name": "python3"
  },
  "language_info": {
   "codemirror_mode": {
    "name": "ipython",
    "version": 3
   },
   "file_extension": ".py",
   "mimetype": "text/x-python",
   "name": "python",
   "nbconvert_exporter": "python",
   "pygments_lexer": "ipython3",
   "version": "3.9.14"
  }
 },
 "nbformat": 4,
 "nbformat_minor": 4
}
